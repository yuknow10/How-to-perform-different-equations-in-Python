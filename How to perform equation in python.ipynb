{
 "cells": [
  {
   "cell_type": "code",
   "execution_count": 1,
   "id": "83586111-f522-46c2-a77d-d63e9e296f5d",
   "metadata": {},
   "outputs": [
    {
     "name": "stdout",
     "output_type": "stream",
     "text": [
      "0246\n"
     ]
    }
   ],
   "source": [
    "# Print out the odd number \n",
    "var = \"01234567\"\n",
    "print(var[::2])"
   ]
  },
  {
   "cell_type": "code",
   "execution_count": 2,
   "id": "8b7aacc1-c4f3-46cb-ac16-c5431b37b026",
   "metadata": {},
   "outputs": [
    {
     "data": {
      "text/plain": [
       "3"
      ]
     },
     "execution_count": 2,
     "metadata": {},
     "output_type": "execute_result"
    }
   ],
   "source": [
    "# Convert float to integer\n",
    "int(3.99)"
   ]
  },
  {
   "cell_type": "code",
   "execution_count": 3,
   "id": "d0c393a8-04c3-4def-923c-7bc7e4b993f8",
   "metadata": {},
   "outputs": [
    {
     "data": {
      "text/plain": [
       "1"
      ]
     },
     "execution_count": 3,
     "metadata": {},
     "output_type": "execute_result"
    }
   ],
   "source": [
    "# Find the items in the second line\n",
    "Name = \"ABCDE\"\n",
    "Name.find(\"B\")"
   ]
  },
  {
   "cell_type": "code",
   "execution_count": 6,
   "id": "1319e639-abc1-4e22-a95f-b7b346c8caa1",
   "metadata": {},
   "outputs": [
    {
     "name": "stdout",
     "output_type": "stream",
     "text": [
      "Li\n"
     ]
    }
   ],
   "source": [
    "# Print out the first lines\n",
    "Name = \"Lizz\"\n",
    "print(Name[0:2])\n",
    "      "
   ]
  },
  {
   "cell_type": "code",
   "execution_count": 8,
   "id": "ac50cf2c-e3bd-4cc6-a5fe-b8de0a9a9176",
   "metadata": {},
   "outputs": [
    {
     "data": {
      "text/plain": [
       "0.5"
      ]
     },
     "execution_count": 8,
     "metadata": {},
     "output_type": "execute_result"
    }
   ],
   "source": [
    "# Divide the following numbers\n",
    "Division = 1/2\n",
    "Division"
   ]
  },
  {
   "cell_type": "code",
   "execution_count": 9,
   "id": "cc13d1dd-e4f8-41f3-8109-db0bfe57552f",
   "metadata": {},
   "outputs": [
    {
     "data": {
      "text/plain": [
       "0"
      ]
     },
     "execution_count": 9,
     "metadata": {},
     "output_type": "execute_result"
    }
   ],
   "source": [
    "# This code will provide an interger\n",
    "Equation = 2//3\n",
    "Equation"
   ]
  },
  {
   "cell_type": "code",
   "execution_count": 10,
   "id": "bf7814e5-4164-473b-ab37-bf8b24f5576b",
   "metadata": {},
   "outputs": [
    {
     "data": {
      "text/plain": [
       "[1, 2, 3, 4, 5]"
      ]
     },
     "execution_count": 10,
     "metadata": {},
     "output_type": "execute_result"
    }
   ],
   "source": [
    "# Change the first number in a list\n",
    "List = [2, 2, 3, 4, 5,]\n",
    "List[0] = 1\n",
    "List"
   ]
  },
  {
   "cell_type": "code",
   "execution_count": 11,
   "id": "5cb81782-a5e1-4005-817e-01d007a0d50b",
   "metadata": {},
   "outputs": [
    {
     "data": {
      "text/plain": [
       "['1', '2', '3', '4']"
      ]
     },
     "execution_count": 11,
     "metadata": {},
     "output_type": "execute_result"
    }
   ],
   "source": [
    "# Split the following numbers\n",
    "Number = \"1,2,3,4\".split(\",\")\n",
    "Number"
   ]
  },
  {
   "cell_type": "code",
   "execution_count": 22,
   "id": "3e2f0bbf-39af-44a2-b8ae-4e2d204a43e0",
   "metadata": {},
   "outputs": [
    {
     "data": {
      "text/plain": [
       "{50, 60, 65, 75, 80, 95, 100}"
      ]
     },
     "execution_count": 22,
     "metadata": {},
     "output_type": "execute_result"
    }
   ],
   "source": [
    "# Change a list to a set and arrange marks from lowest to highest\n",
    "marks_on_test = [50, 60, 75, 80, 95, 95, 60, 100]\n",
    "marks_on_test[1] = 65\n",
    "marks_on_test\n",
    "remove_duplicate_items = set(marks_on_test)\n",
    "remove_duplicate_items\n"
   ]
  },
  {
   "cell_type": "code",
   "execution_count": 26,
   "id": "a9e4f5a6-265e-4d60-9cb8-25764d388d60",
   "metadata": {},
   "outputs": [
    {
     "name": "stdout",
     "output_type": "stream",
     "text": [
      "The author name is Yunus Ayodeji\n"
     ]
    }
   ],
   "source": [
    "# Conditional statement using if/else\n",
    "x = 27\n",
    "if (x == 27):\n",
    "    print(\"The author name is Yunus Ayodeji\")\n",
    "else:\n",
    "    print(\"The author name is not Yunus Ayodeji\")\n",
    "    \n",
    "    \n",
    "    "
   ]
  },
  {
   "cell_type": "code",
   "execution_count": 35,
   "id": "b2da1667-efbb-4dec-90b7-c74bb5d7e57f",
   "metadata": {},
   "outputs": [
    {
     "data": {
      "text/plain": [
       "'11'"
      ]
     },
     "execution_count": 35,
     "metadata": {},
     "output_type": "execute_result"
    }
   ],
   "source": [
    "# Define a function\n",
    "def add(x):\n",
    "    return(x+x)\n",
    "add(\"1\")\n"
   ]
  },
  {
   "cell_type": "code",
   "execution_count": 53,
   "id": "afc34f4d-579d-441e-8e6d-3a08e49cf734",
   "metadata": {},
   "outputs": [
    {
     "name": "stdout",
     "output_type": "stream",
     "text": [
      "11\n",
      "22\n",
      "33\n"
     ]
    }
   ],
   "source": [
    "# \n",
    "A = [\"1\",\"2\",\"3\"]\n",
    "for a in A:\n",
    "    print(2*a)\n",
    "     "
   ]
  },
  {
   "cell_type": "code",
   "execution_count": 40,
   "id": "b4753233-7487-4c33-a65e-e8d22e290ccd",
   "metadata": {},
   "outputs": [
    {
     "name": "stdout",
     "output_type": "stream",
     "text": [
      "2\n",
      "3\n",
      "4\n"
     ]
    }
   ],
   "source": [
    "for i in range(1,5):\n",
    "    if (i!=1):\n",
    "        print(i)"
   ]
  },
  {
   "cell_type": "code",
   "execution_count": 41,
   "id": "8ba20aa4-565f-4785-b5e0-e3ca89adda89",
   "metadata": {},
   "outputs": [
    {
     "data": {
      "text/plain": [
       "array([11, 12, 13, 14, 15])"
      ]
     },
     "execution_count": 41,
     "metadata": {},
     "output_type": "execute_result"
    }
   ],
   "source": [
    "# Perform addition to the equation\n",
    "import numpy as np\n",
    "a = np.array([1,2,3,4,5])\n",
    "a+10"
   ]
  },
  {
   "cell_type": "code",
   "execution_count": 47,
   "id": "9590da58-6833-4264-ae37-261bef0cf6b3",
   "metadata": {},
   "outputs": [
    {
     "data": {
      "text/plain": [
       "array([  0,  25, 100,  75])"
      ]
     },
     "execution_count": 47,
     "metadata": {},
     "output_type": "execute_result"
    }
   ],
   "source": [
    "#Perform addition to different equation\n",
    "A = np.array([0,5,10,15])\n",
    "B = np.array([2,5,10,5])\n",
    "A*B"
   ]
  },
  {
   "cell_type": "code",
   "execution_count": null,
   "id": "c41a703d-0b0c-4e4f-bda7-25445d79edd2",
   "metadata": {},
   "outputs": [],
   "source": []
  }
 ],
 "metadata": {
  "kernelspec": {
   "display_name": "Python",
   "language": "python",
   "name": "conda-env-python-py"
  },
  "language_info": {
   "codemirror_mode": {
    "name": "ipython",
    "version": 3
   },
   "file_extension": ".py",
   "mimetype": "text/x-python",
   "name": "python",
   "nbconvert_exporter": "python",
   "pygments_lexer": "ipython3",
   "version": "3.7.12"
  }
 },
 "nbformat": 4,
 "nbformat_minor": 5
}
